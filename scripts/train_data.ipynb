{
 "cells": [
  {
   "cell_type": "code",
   "execution_count": 6,
   "metadata": {},
   "outputs": [],
   "source": [
    "import pandas as pd\n",
    "posi_df = pd.read_csv('train_posi.csv',\n",
    "                    encoding='utf-8',\n",
    "                    index_col = 0,                 \n",
    "                   )\n",
    "\n",
    "text_list = list(posi_df['text'])\n",
    "p_label = [\"P\" for i in range(len(text_list))]\n",
    "posi_df['label'] = p_label\n",
    "\n",
    "\n",
    "nega_df = pd.read_csv('train_nega.csv',\n",
    "                     encoding='utf-8',\n",
    "                        index_col = 0,\n",
    "                     )\n",
    "text_list = list(nega_df['text'])\n",
    "n_label = [\"N\" for i in range(len(text_list))]\n",
    "nega_df['label'] = n_label\n",
    "\n",
    "\n",
    "concat_df = pd.concat([posi_df,nega_df])\n",
    "concat_df.drop(\"dic_score\", axis=1)\n",
    "\n",
    "\n",
    "# indexを振り直す\n",
    "re_df = concat_df.reset_index(drop=True)\n",
    "re_df.to_csv(\"train_news.csv\")"
   ]
  }
 ],
 "metadata": {
  "kernelspec": {
   "display_name": "Python 3",
   "language": "python",
   "name": "python3"
  },
  "language_info": {
   "codemirror_mode": {
    "name": "ipython",
    "version": 3
   },
   "file_extension": ".py",
   "mimetype": "text/x-python",
   "name": "python",
   "nbconvert_exporter": "python",
   "pygments_lexer": "ipython3",
   "version": "3.6.3"
  }
 },
 "nbformat": 4,
 "nbformat_minor": 2
}
