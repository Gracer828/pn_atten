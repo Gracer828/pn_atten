{
 "cells": [
  {
   "cell_type": "code",
   "execution_count": 7,
   "metadata": {},
   "outputs": [],
   "source": [
    "import pandas as pd\n",
    "\n",
    "train_df = pd.read_csv('train_news.csv',\n",
    "                    encoding='utf-8',\n",
    "                    index_col = 0,                 \n",
    "                   )\n",
    "\n",
    "news = list(train_df[\"text\"])\n",
    "label = list(train_df[\"label\"])\n",
    "\n",
    "news = [n+\",\" for n in news]"
   ]
  },
  {
   "cell_type": "code",
   "execution_count": 10,
   "metadata": {},
   "outputs": [],
   "source": [
    "# 教師データをテキストファイルに書き込む\n",
    "supervised_line = [n + l for l,n in zip(label,news)]\n",
    "\n",
    "\n",
    "with open(\"train.txt\", \"w\") as f:\n",
    "    f.write(\"\\n\".join(supervised_line))"
   ]
  },
  {
   "cell_type": "code",
   "execution_count": null,
   "metadata": {},
   "outputs": [],
   "source": []
  },
  {
   "cell_type": "code",
   "execution_count": 2,
   "metadata": {},
   "outputs": [
    {
     "name": "stderr",
     "output_type": "stream",
     "text": [
      "/Users/ogawamasato/anaconda/lib/python3.6/site-packages/ipykernel_launcher.py:11: SettingWithCopyWarning: \n",
      "A value is trying to be set on a copy of a slice from a DataFrame.\n",
      "Try using .loc[row_indexer,col_indexer] = value instead\n",
      "\n",
      "See the caveats in the documentation: http://pandas.pydata.org/pandas-docs/stable/indexing.html#indexing-view-versus-copy\n",
      "  # This is added back by InteractiveShellApp.init_path()\n",
      "/Users/ogawamasato/anaconda/lib/python3.6/site-packages/ipykernel_launcher.py:12: SettingWithCopyWarning: \n",
      "A value is trying to be set on a copy of a slice from a DataFrame.\n",
      "Try using .loc[row_indexer,col_indexer] = value instead\n",
      "\n",
      "See the caveats in the documentation: http://pandas.pydata.org/pandas-docs/stable/indexing.html#indexing-view-versus-copy\n",
      "  if sys.path[0] == '':\n"
     ]
    }
   ],
   "source": [
    "import pandas as pd\n",
    "\n",
    "test_df = pd.read_csv('test_news.csv',\n",
    "                    encoding='utf-8',\n",
    "                    index_col = 0,                 \n",
    "                   )\n",
    "\n",
    "posi_df = test_df[test_df.label==\"P\"]\n",
    "nega_df = test_df[test_df.label==\"N\"]\n",
    "\n",
    "posi_df[\"label\"] = [\"0\" for i in range(len(list(posi_df[\"label\"])))]\n",
    "nega_df[\"label\"] = [\"0\" for i in range(len(list(nega_df[\"label\"])))]\n",
    "\n",
    "concat_df = pd.concat([posi_df,nega_df])\n",
    "\n",
    "# indexを振り直す\n",
    "re_df = concat_df.reset_index(drop=True)\n",
    "re_df.to_csv(\"test_pn.csv\")"
   ]
  },
  {
   "cell_type": "code",
   "execution_count": null,
   "metadata": {},
   "outputs": [],
   "source": [
    "# 教師データをテキストファイルに書き込む\n",
    "supervised_line = [l + \" \" + n for l,n in zip(label,news)]\n",
    "\n",
    "with open(\"../train_data/{}_label.txt\".format(today_date), \"w\") as f:\n",
    "    f.write(\"\\n\".join(supervised_line))\n"
   ]
  },
  {
   "cell_type": "code",
   "execution_count": null,
   "metadata": {},
   "outputs": [],
   "source": [
    "import csv \n",
    "\n",
    "with open('test_pn.csv', 'w'):\n",
    "    writer = csv.writer(f)"
   ]
  }
 ],
 "metadata": {
  "kernelspec": {
   "display_name": "Python 3",
   "language": "python",
   "name": "python3"
  },
  "language_info": {
   "codemirror_mode": {
    "name": "ipython",
    "version": 3
   },
   "file_extension": ".py",
   "mimetype": "text/x-python",
   "name": "python",
   "nbconvert_exporter": "python",
   "pygments_lexer": "ipython3",
   "version": "3.6.3"
  }
 },
 "nbformat": 4,
 "nbformat_minor": 2
}
