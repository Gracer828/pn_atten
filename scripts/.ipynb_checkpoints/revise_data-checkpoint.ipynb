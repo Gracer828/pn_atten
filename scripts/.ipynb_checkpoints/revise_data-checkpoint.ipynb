{
 "cells": [
  {
   "cell_type": "code",
   "execution_count": 4,
   "metadata": {},
   "outputs": [
    {
     "ename": "SyntaxError",
     "evalue": "invalid syntax (<ipython-input-4-2d1f0356e746>, line 14)",
     "output_type": "error",
     "traceback": [
      "\u001b[0;36m  File \u001b[0;32m\"<ipython-input-4-2d1f0356e746>\"\u001b[0;36m, line \u001b[0;32m14\u001b[0m\n\u001b[0;31m    print(posi_df)\u001b[0m\n\u001b[0m        ^\u001b[0m\n\u001b[0;31mSyntaxError\u001b[0m\u001b[0;31m:\u001b[0m invalid syntax\n"
     ]
    }
   ],
   "source": [
    "import pandas as pd\n",
    "\n",
    "train_df = pd.read_csv('train_news.csv',\n",
    "                    encoding='utf-8',\n",
    "                    index_col = 0,                 \n",
    "                   )\n",
    "\n",
    "posi_df = train_df[train_df.label==\"P\"]\n",
    "nega_df = train_df[train_df.label==\"N\"]\n",
    "\n",
    "posi_df[\"label\"] = [\"1\" for i in range(len(list(posi_df[\"label\"])))]\n",
    "nega_df[\"label\"] = [\"1\" for i in range(len(list(nega_df[\"label\"])))]\n",
    "\n",
    "concat_df = pd.concat([posi_df,nega_df])\n",
    "concat_df.drop(\"dic_score\", axis=1)\n",
    "\n",
    "\n",
    "# indexを振り直す\n",
    "re_df = concat_df.reset_index(drop=True)\n",
    "re_df.to_csv(\"train_news.csv\")"
   ]
  }
 ],
 "metadata": {
  "kernelspec": {
   "display_name": "Python 3",
   "language": "python",
   "name": "python3"
  },
  "language_info": {
   "codemirror_mode": {
    "name": "ipython",
    "version": 3
   },
   "file_extension": ".py",
   "mimetype": "text/x-python",
   "name": "python",
   "nbconvert_exporter": "python",
   "pygments_lexer": "ipython3",
   "version": "3.6.3"
  }
 },
 "nbformat": 4,
 "nbformat_minor": 2
}
