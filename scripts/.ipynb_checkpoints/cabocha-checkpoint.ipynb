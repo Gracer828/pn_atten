{
 "cells": [
  {
   "cell_type": "code",
   "execution_count": null,
   "metadata": {},
   "outputs": [],
   "source": [
    "\"\"\"\n",
    "MeCabとCaboChaをMacに導入してPythonから使ってみる\n",
    "https://qiita.com/musaprg/items/9a572ad5c4e28f79d2ae\n",
    "\n",
    "CaboCha wrapper package for Python\n",
    "https://github.com/kenkov/cabocha/blob/master/README.rst\n",
    "\n",
    "Attention学習×Cabocha\n",
    "\n",
    "Attentionエンコーダー\n",
    "\"\"\""
   ]
  },
  {
   "cell_type": "code",
   "execution_count": 18,
   "metadata": {},
   "outputs": [
    {
     "name": "stdout",
     "output_type": "stream",
     "text": [
      "Chunk(\"日本語の\")\n",
      "Token(\"日本語\")\n",
      "Token(\"の\")\n",
      "Chunk(\"形態素解析は\")\n",
      "Token(\"形態素\")\n",
      "Token(\"解析\")\n",
      "Token(\"は\")\n",
      "Chunk(\"すごい\")\n",
      "Token(\"すごい\")\n"
     ]
    }
   ],
   "source": [
    "from cabocha.analyzer import CaboChaAnalyzer\n",
    "analyzer = CaboChaAnalyzer()\n",
    "tree = analyzer.parse(\"日本語の形態素解析はすごい\")\n",
    "for chunk in tree:\n",
    "    print(chunk)\n",
    "    for token in chunk:\n",
    "        print(token)"
   ]
  },
  {
   "cell_type": "code",
   "execution_count": 23,
   "metadata": {},
   "outputs": [
    {
     "name": "stdout",
     "output_type": "stream",
     "text": [
      "Chunk(\"日本語の\")\n",
      "Chunk(\"形態素解析は\")\n",
      "Chunk(\"すごい\")\n"
     ]
    }
   ],
   "source": [
    "chunks = tree.chunks\n",
    "start_chunk = chunks[0]\n",
    "print(chunks[0])\n",
    "\n",
    "# 係り先を表示\n",
    "print(start_chunk.next_link)\n",
    "print(start_chunk.next_link.next_link)"
   ]
  }
 ],
 "metadata": {
  "kernelspec": {
   "display_name": "Python 3",
   "language": "python",
   "name": "python3"
  },
  "language_info": {
   "codemirror_mode": {
    "name": "ipython",
    "version": 3
   },
   "file_extension": ".py",
   "mimetype": "text/x-python",
   "name": "python",
   "nbconvert_exporter": "python",
   "pygments_lexer": "ipython3",
   "version": "3.6.3"
  }
 },
 "nbformat": 4,
 "nbformat_minor": 2
}
